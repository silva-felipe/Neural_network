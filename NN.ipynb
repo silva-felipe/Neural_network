{
  "nbformat": 4,
  "nbformat_minor": 0,
  "metadata": {
    "colab": {
      "name": "NN.ipynb",
      "provenance": [],
      "authorship_tag": "ABX9TyP19Oh7+l1HZQzUj7VB9jF7",
      "include_colab_link": true
    },
    "kernelspec": {
      "name": "python3",
      "display_name": "Python 3"
    },
    "language_info": {
      "name": "python"
    }
  },
  "cells": [
    {
      "cell_type": "markdown",
      "metadata": {
        "id": "view-in-github",
        "colab_type": "text"
      },
      "source": [
        "<a href=\"https://colab.research.google.com/github/silva-felipe/Neural_network/blob/main/NN.ipynb\" target=\"_parent\"><img src=\"https://colab.research.google.com/assets/colab-badge.svg\" alt=\"Open In Colab\"/></a>"
      ]
    },
    {
      "cell_type": "markdown",
      "metadata": {
        "id": "EqfJL0NoMJ3q"
      },
      "source": [
        "#Libraries"
      ]
    },
    {
      "cell_type": "code",
      "metadata": {
        "colab": {
          "base_uri": "https://localhost:8080/"
        },
        "id": "0qubEAbF0Sal",
        "outputId": "205be768-0a0b-4348-d0b3-ed3f1b678cf4"
      },
      "source": [
        "# pip install fsspec"
      ],
      "execution_count": 5,
      "outputs": [
        {
          "output_type": "stream",
          "name": "stdout",
          "text": [
            "Collecting fsspec\n",
            "  Downloading fsspec-2021.11.1-py3-none-any.whl (132 kB)\n",
            "\u001b[?25l\r\u001b[K     |██▌                             | 10 kB 24.6 MB/s eta 0:00:01\r\u001b[K     |█████                           | 20 kB 28.6 MB/s eta 0:00:01\r\u001b[K     |███████▍                        | 30 kB 15.4 MB/s eta 0:00:01\r\u001b[K     |█████████▉                      | 40 kB 11.6 MB/s eta 0:00:01\r\u001b[K     |████████████▎                   | 51 kB 7.3 MB/s eta 0:00:01\r\u001b[K     |██████████████▉                 | 61 kB 7.6 MB/s eta 0:00:01\r\u001b[K     |█████████████████▎              | 71 kB 6.2 MB/s eta 0:00:01\r\u001b[K     |███████████████████▊            | 81 kB 7.0 MB/s eta 0:00:01\r\u001b[K     |██████████████████████▏         | 92 kB 7.7 MB/s eta 0:00:01\r\u001b[K     |████████████████████████▋       | 102 kB 6.8 MB/s eta 0:00:01\r\u001b[K     |███████████████████████████     | 112 kB 6.8 MB/s eta 0:00:01\r\u001b[K     |█████████████████████████████▋  | 122 kB 6.8 MB/s eta 0:00:01\r\u001b[K     |████████████████████████████████| 132 kB 6.8 MB/s \n",
            "\u001b[?25hInstalling collected packages: fsspec\n",
            "Successfully installed fsspec-2021.11.1\n"
          ]
        }
      ]
    },
    {
      "cell_type": "code",
      "metadata": {
        "id": "fdprJS8S1a8b"
      },
      "source": [
        "import pandas as pd\n",
        "import numpy as np\n",
        "import matplotlib.pyplot as plt\n"
      ],
      "execution_count": 6,
      "outputs": []
    },
    {
      "cell_type": "markdown",
      "metadata": {
        "id": "IYBu1-4nMMp6"
      },
      "source": [
        "#Dataset for training and testing"
      ]
    },
    {
      "cell_type": "code",
      "metadata": {
        "id": "wRLul8uY1hXw"
      },
      "source": [
        "data_tr = pd.read_csv('https://raw.githubusercontent.com/silva-felipe/Neural_network/main/train_nn.csv')\n",
        "data_tr = np.array(data_tr)\n",
        "m,n = data_tr.shape"
      ],
      "execution_count": 8,
      "outputs": []
    },
    {
      "cell_type": "code",
      "metadata": {
        "id": "SdtRPdmj7A6w"
      },
      "source": [
        "data_train = data_tr.T\n",
        "Y_train = data_train[0]\n",
        "X_train = data_train[1:]\n",
        "X_train = X_train / 255.\n",
        "_,m_train = X_train.shape"
      ],
      "execution_count": 9,
      "outputs": []
    },
    {
      "cell_type": "code",
      "metadata": {
        "id": "g-TWiyY77hOk"
      },
      "source": [
        "data_te = pd.read_csv('https://raw.githubusercontent.com/silva-felipe/Neural_network/main/test_nn.csv')\n",
        "data_te = np.array(data_te)"
      ],
      "execution_count": 10,
      "outputs": []
    },
    {
      "cell_type": "code",
      "metadata": {
        "id": "JeLNLIuZ7xNT"
      },
      "source": [
        "data_test = data_te.T\n",
        "Y_test = data_test[0]\n",
        "X_test = data_test[1:]\n",
        "X_test = X_test / 255."
      ],
      "execution_count": 11,
      "outputs": []
    },
    {
      "cell_type": "markdown",
      "metadata": {
        "id": "MZMF8j-ZBA3C"
      },
      "source": [
        "#Neural Network"
      ]
    },
    {
      "cell_type": "code",
      "metadata": {
        "id": "p4QIrt71BdMj"
      },
      "source": [
        "def init_params():\n",
        "    weights1 = np.random.rand(10, 784) - 0.5\n",
        "    biasses1 = np.random.rand(10, 1) - 0.5\n",
        "    weights2 = np.random.rand(10, 10) - 0.5\n",
        "    biasses2 = np.random.rand(10, 1) - 0.5\n",
        "    return weights1, biasses1, weights2, biasses2\n",
        "\n",
        "def ReLU(Z):\n",
        "    return np.maximum(Z, 0)\n",
        "\n",
        "def softmax(Z):\n",
        "    A = np.exp(Z) / sum(np.exp(Z))\n",
        "    return A\n",
        "    \n",
        "def forward_prop(weights1, biasses1, weights2, biasses2, X):\n",
        "    input_layer = weights1.dot(X) + biasses1\n",
        "    activation = ReLU(input_layer)\n",
        "    output_layer = weights2.dot(activation) + biasses2\n",
        "    output_activation = softmax(output_layer)\n",
        "    return input_layer, activation, output_layer, output_activation\n",
        "\n",
        "def ReLU_deriv(Z):\n",
        "    return Z > 0\n",
        "\n",
        "def one_hot(Y):\n",
        "    one_hot_Y = np.zeros((Y.size, Y.max() + 1))\n",
        "    one_hot_Y[np.arange(Y.size), Y] = 1\n",
        "    one_hot_Y = one_hot_Y.T\n",
        "    return one_hot_Y\n",
        "\n",
        "def backward_prop(input_layer, activation, output_layer, output_activation, weights1, weights2, X, Y):\n",
        "    one_hot_Y = one_hot(Y)\n",
        "    doutput_layer = output_activation - one_hot_Y\n",
        "    dweights2 = 1 / m * doutput_layer.dot(activation.T)\n",
        "    dbiasses2 = 1 / m * np.sum(doutput_layer)\n",
        "    dinput_layer = weights2.T.dot(doutput_layer) * ReLU_deriv(input_layer)\n",
        "    dweights1 = 1 / m * dinput_layer.dot(X.T)\n",
        "    dbiasses1 = 1 / m * np.sum(dinput_layer)\n",
        "    return dweights1, dbiasses1, dweights2, dbiasses2\n",
        "\n",
        "def update_params(weights1, biasses1, weights2, biasses2, dweights1, dbiasses1, dweights2, dbiasses2, alpha):\n",
        "    weights1 = weights1 - alpha * dweights1\n",
        "    biasses1 = biasses1 - alpha * dbiasses1    \n",
        "    weights2 = weights2 - alpha * dweights2  \n",
        "    biasses2 = biasses2 - alpha * dbiasses2    \n",
        "    return weights1, biasses1, weights2, biasses2"
      ],
      "execution_count": 12,
      "outputs": []
    },
    {
      "cell_type": "code",
      "metadata": {
        "id": "94EjXTQ0Bl7P"
      },
      "source": [
        "def get_predictions(A2):\n",
        "    return np.argmax(A2, 0)\n",
        "\n",
        "def get_accuracy(predictions, Y):\n",
        "    print(predictions, Y)\n",
        "    return np.sum(predictions == Y) / Y.size\n",
        "\n",
        "def gradient_descent(X, Y, alpha, iterations):\n",
        "    weights1, biasses1, weights2, biasses2 = init_params()\n",
        "    for i in range(iterations):\n",
        "        Z1, A1, Z2, A2 = forward_prop(weights1, biasses1, weights2, biasses2, X)\n",
        "        dweights1, dbiasses1, dweights2, dbiasses2 = backward_prop(Z1, A1, Z2, A2, weights1, weights2, X, Y)\n",
        "        weights1, biasses1, weights2, biasses2 = update_params(weights1, biasses1, weights2, biasses2, dweights1, dbiasses1, dweights2, dbiasses2, alpha)\n",
        "        if i % 10 == 0:\n",
        "            print(\"Iteration: \", i)\n",
        "            predictions = get_predictions(A2)\n",
        "            print(get_accuracy(predictions, Y))\n",
        "    return weights1, biasses1, weights2, biasses2"
      ],
      "execution_count": 13,
      "outputs": []
    },
    {
      "cell_type": "code",
      "metadata": {
        "colab": {
          "base_uri": "https://localhost:8080/"
        },
        "id": "ppCeTKhWBqDM",
        "outputId": "e51645de-84fe-4ca0-d6c4-c5e78d8c6e51"
      },
      "source": [
        "weights1, biasses1, weights2, biasses2 = gradient_descent(X_train, Y_train, 0.15, 500)"
      ],
      "execution_count": 14,
      "outputs": [
        {
          "output_type": "stream",
          "name": "stdout",
          "text": [
            "Iteration:  0\n",
            "[3 6 2 ... 2 3 2] [1 0 1 ... 4 7 9]\n",
            "0.0686\n",
            "Iteration:  10\n",
            "[3 6 2 ... 3 8 0] [1 0 1 ... 4 7 9]\n",
            "0.1725\n",
            "Iteration:  20\n",
            "[1 0 2 ... 5 8 0] [1 0 1 ... 4 7 9]\n",
            "0.2082\n",
            "Iteration:  30\n",
            "[1 0 2 ... 5 8 0] [1 0 1 ... 4 7 9]\n",
            "0.2379\n",
            "Iteration:  40\n",
            "[1 0 8 ... 5 8 6] [1 0 1 ... 4 7 9]\n",
            "0.2724\n",
            "Iteration:  50\n",
            "[1 0 8 ... 9 8 6] [1 0 1 ... 4 7 9]\n",
            "0.3297\n",
            "Iteration:  60\n",
            "[1 0 8 ... 9 5 5] [1 0 1 ... 4 7 9]\n",
            "0.3887\n",
            "Iteration:  70\n",
            "[1 0 8 ... 9 0 5] [1 0 1 ... 4 7 9]\n",
            "0.4375\n",
            "Iteration:  80\n",
            "[1 0 8 ... 4 5 5] [1 0 1 ... 4 7 9]\n",
            "0.489\n",
            "Iteration:  90\n",
            "[1 0 8 ... 4 5 9] [1 0 1 ... 4 7 9]\n",
            "0.5404\n",
            "Iteration:  100\n",
            "[1 0 8 ... 4 5 9] [1 0 1 ... 4 7 9]\n",
            "0.5859\n",
            "Iteration:  110\n",
            "[1 0 8 ... 4 5 9] [1 0 1 ... 4 7 9]\n",
            "0.6322\n",
            "Iteration:  120\n",
            "[1 0 1 ... 4 5 9] [1 0 1 ... 4 7 9]\n",
            "0.6661\n",
            "Iteration:  130\n",
            "[1 0 1 ... 4 5 9] [1 0 1 ... 4 7 9]\n",
            "0.6881\n",
            "Iteration:  140\n",
            "[1 0 1 ... 4 5 9] [1 0 1 ... 4 7 9]\n",
            "0.7021\n",
            "Iteration:  150\n",
            "[1 0 1 ... 4 5 9] [1 0 1 ... 4 7 9]\n",
            "0.7153\n",
            "Iteration:  160\n",
            "[1 0 1 ... 4 5 9] [1 0 1 ... 4 7 9]\n",
            "0.7266\n",
            "Iteration:  170\n",
            "[1 0 1 ... 4 5 9] [1 0 1 ... 4 7 9]\n",
            "0.7371\n",
            "Iteration:  180\n",
            "[1 0 1 ... 4 5 9] [1 0 1 ... 4 7 9]\n",
            "0.7447\n",
            "Iteration:  190\n",
            "[1 0 1 ... 4 5 9] [1 0 1 ... 4 7 9]\n",
            "0.7507\n",
            "Iteration:  200\n",
            "[1 0 1 ... 4 7 9] [1 0 1 ... 4 7 9]\n",
            "0.7554\n",
            "Iteration:  210\n",
            "[1 0 1 ... 4 7 9] [1 0 1 ... 4 7 9]\n",
            "0.761\n",
            "Iteration:  220\n",
            "[1 0 1 ... 4 7 9] [1 0 1 ... 4 7 9]\n",
            "0.7663\n",
            "Iteration:  230\n",
            "[1 0 1 ... 4 7 9] [1 0 1 ... 4 7 9]\n",
            "0.7715\n",
            "Iteration:  240\n",
            "[1 0 1 ... 4 7 9] [1 0 1 ... 4 7 9]\n",
            "0.7759\n",
            "Iteration:  250\n",
            "[1 0 1 ... 4 7 9] [1 0 1 ... 4 7 9]\n",
            "0.7791\n",
            "Iteration:  260\n",
            "[1 0 1 ... 4 7 9] [1 0 1 ... 4 7 9]\n",
            "0.7831\n",
            "Iteration:  270\n",
            "[1 0 1 ... 4 7 9] [1 0 1 ... 4 7 9]\n",
            "0.7862\n",
            "Iteration:  280\n",
            "[1 0 1 ... 4 7 9] [1 0 1 ... 4 7 9]\n",
            "0.7896\n",
            "Iteration:  290\n",
            "[1 0 1 ... 4 7 9] [1 0 1 ... 4 7 9]\n",
            "0.7929\n",
            "Iteration:  300\n",
            "[1 0 1 ... 4 7 9] [1 0 1 ... 4 7 9]\n",
            "0.7969\n",
            "Iteration:  310\n",
            "[1 0 1 ... 4 7 9] [1 0 1 ... 4 7 9]\n",
            "0.8005\n",
            "Iteration:  320\n",
            "[1 0 1 ... 4 7 9] [1 0 1 ... 4 7 9]\n",
            "0.8032\n",
            "Iteration:  330\n",
            "[1 0 1 ... 4 7 9] [1 0 1 ... 4 7 9]\n",
            "0.8053\n",
            "Iteration:  340\n",
            "[1 0 1 ... 4 7 9] [1 0 1 ... 4 7 9]\n",
            "0.8071\n",
            "Iteration:  350\n",
            "[1 0 1 ... 4 7 9] [1 0 1 ... 4 7 9]\n",
            "0.8085\n",
            "Iteration:  360\n",
            "[1 0 1 ... 4 7 9] [1 0 1 ... 4 7 9]\n",
            "0.811\n",
            "Iteration:  370\n",
            "[1 0 1 ... 4 7 9] [1 0 1 ... 4 7 9]\n",
            "0.814\n",
            "Iteration:  380\n",
            "[1 0 1 ... 4 7 9] [1 0 1 ... 4 7 9]\n",
            "0.8176\n",
            "Iteration:  390\n",
            "[1 0 1 ... 4 7 9] [1 0 1 ... 4 7 9]\n",
            "0.8193\n",
            "Iteration:  400\n",
            "[1 0 1 ... 4 7 9] [1 0 1 ... 4 7 9]\n",
            "0.8212\n",
            "Iteration:  410\n",
            "[1 0 1 ... 4 7 9] [1 0 1 ... 4 7 9]\n",
            "0.8231\n",
            "Iteration:  420\n",
            "[1 0 1 ... 4 7 9] [1 0 1 ... 4 7 9]\n",
            "0.8257\n",
            "Iteration:  430\n",
            "[1 0 1 ... 4 7 9] [1 0 1 ... 4 7 9]\n",
            "0.8283\n",
            "Iteration:  440\n",
            "[1 0 1 ... 4 7 9] [1 0 1 ... 4 7 9]\n",
            "0.831\n",
            "Iteration:  450\n",
            "[1 0 1 ... 4 7 9] [1 0 1 ... 4 7 9]\n",
            "0.8333\n",
            "Iteration:  460\n",
            "[1 0 1 ... 4 7 9] [1 0 1 ... 4 7 9]\n",
            "0.8357\n",
            "Iteration:  470\n",
            "[1 0 1 ... 4 7 9] [1 0 1 ... 4 7 9]\n",
            "0.8378\n",
            "Iteration:  480\n",
            "[1 0 1 ... 4 7 9] [1 0 1 ... 4 7 9]\n",
            "0.8402\n",
            "Iteration:  490\n",
            "[1 0 1 ... 4 7 9] [1 0 1 ... 4 7 9]\n",
            "0.8424\n"
          ]
        }
      ]
    },
    {
      "cell_type": "code",
      "metadata": {
        "id": "ZCIZ6lIYBxBe"
      },
      "source": [
        "def make_predictions(X, weights1, biasses1, weights2, biasses2):\n",
        "    _, _, _, A2 = forward_prop(weights1, biasses1, weights2, biasses2, X)\n",
        "    predictions = get_predictions(A2)\n",
        "    return predictions\n",
        "\n",
        "def test_prediction(index, weights1, biasses1, weights2, biasses2):\n",
        "    current_image = X_train[:, index, None]\n",
        "    prediction = make_predictions(current_image, weights1, biasses1, weights2, biasses2)\n",
        "    label = Y_train[index]\n",
        "    print(\"Prediction: \", prediction)\n",
        "    print(\"Label: \", label)\n",
        "    \n",
        "    current_image = current_image.reshape((28, 28)) * 255\n",
        "    plt.gray()\n",
        "    plt.imshow(current_image, interpolation='nearest')\n",
        "    plt.show()"
      ],
      "execution_count": 28,
      "outputs": []
    },
    {
      "cell_type": "code",
      "metadata": {
        "colab": {
          "base_uri": "https://localhost:8080/",
          "height": 300
        },
        "id": "aDBv5UMaD9e6",
        "outputId": "fdf30469-b39c-44af-ec4b-4f4e492dc1d7"
      },
      "source": [
        "test_prediction(1979, weights1, biasses1, weights2, biasses2)"
      ],
      "execution_count": 29,
      "outputs": [
        {
          "output_type": "stream",
          "name": "stdout",
          "text": [
            "Prediction:  [8]\n",
            "Label:  1\n"
          ]
        },
        {
          "output_type": "display_data",
          "data": {
            "image/png": "[encoded data removed]",
            "text/plain": [
              "<Figure size 432x288 with 1 Axes>"
            ]
          },
          "metadata": {
            "needs_background": "light"
          }
        }
      ]
    },
    {
      "cell_type": "code",
      "metadata": {
        "id": "oAOBq0dUEJnb"
      },
      "source": [
        ""
      ],
      "execution_count": null,
      "outputs": []
    }
  ]
}